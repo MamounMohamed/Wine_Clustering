{
 "cells": [
  {
   "cell_type": "code",
   "execution_count": 24,
   "metadata": {
    "colab": {
     "base_uri": "https://localhost:8080/"
    },
    "executionInfo": {
     "elapsed": 3392,
     "status": "ok",
     "timestamp": 1622639344872,
     "user": {
      "displayName": "Ahmed Hany",
      "photoUrl": "",
      "userId": "11066611178035959836"
     },
     "user_tz": -120
    },
    "id": "VIvirCIu2BiG",
    "outputId": "415b0505-4cf2-49f4-8b66-c7e38ed3ab17"
   },
   "outputs": [
    {
     "name": "stdout",
     "output_type": "stream",
     "text": [
      "Requirement already satisfied: scikit-learn-extra in /usr/local/lib/python3.7/dist-packages (0.2.0)\n",
      "Requirement already satisfied: scipy>=0.19.1 in /usr/local/lib/python3.7/dist-packages (from scikit-learn-extra) (1.4.1)\n",
      "Requirement already satisfied: numpy>=1.13.3 in /usr/local/lib/python3.7/dist-packages (from scikit-learn-extra) (1.19.5)\n",
      "Requirement already satisfied: scikit-learn>=0.23.0 in /usr/local/lib/python3.7/dist-packages (from scikit-learn-extra) (0.24.2)\n",
      "Requirement already satisfied: joblib>=0.11 in /usr/local/lib/python3.7/dist-packages (from scikit-learn>=0.23.0->scikit-learn-extra) (1.0.1)\n",
      "Requirement already satisfied: threadpoolctl>=2.0.0 in /usr/local/lib/python3.7/dist-packages (from scikit-learn>=0.23.0->scikit-learn-extra) (2.1.0)\n"
     ]
    }
   ],
   "source": [
    "pip install scikit-learn-extra"
   ]
  },
  {
   "cell_type": "code",
   "execution_count": 25,
   "metadata": {
    "executionInfo": {
     "elapsed": 37,
     "status": "ok",
     "timestamp": 1622639344873,
     "user": {
      "displayName": "Ahmed Hany",
      "photoUrl": "",
      "userId": "11066611178035959836"
     },
     "user_tz": -120
    },
    "id": "dRARoPvN2QN2"
   },
   "outputs": [],
   "source": [
    "#importing important libraries\n",
    "import numpy as np\n",
    "import pandas as pd\n",
    "import matplotlib.pyplot as plt\n",
    "import matplotlib.pyplot as plt\n",
    "import seaborn as sns\n",
    "from IPython.display import Image,display\n",
    "%matplotlib inline\n",
    "import missingno\n",
    "from sklearn_extra.cluster import KMedoids\n"
   ]
  },
  {
   "cell_type": "code",
   "execution_count": 26,
   "metadata": {
    "colab": {
     "base_uri": "https://localhost:8080/",
     "height": 196
    },
    "executionInfo": {
     "elapsed": 34,
     "status": "ok",
     "timestamp": 1622639344874,
     "user": {
      "displayName": "Ahmed Hany",
      "photoUrl": "",
      "userId": "11066611178035959836"
     },
     "user_tz": -120
    },
    "id": "Dh_cgsGv5kdm",
    "outputId": "deb94909-a1e0-407d-8bf1-3e948aa8b014"
   },
   "outputs": [
    {
     "data": {
      "text/html": [
       "<div>\n",
       "<style scoped>\n",
       "    .dataframe tbody tr th:only-of-type {\n",
       "        vertical-align: middle;\n",
       "    }\n",
       "\n",
       "    .dataframe tbody tr th {\n",
       "        vertical-align: top;\n",
       "    }\n",
       "\n",
       "    .dataframe thead th {\n",
       "        text-align: right;\n",
       "    }\n",
       "</style>\n",
       "<table border=\"1\" class=\"dataframe\">\n",
       "  <thead>\n",
       "    <tr style=\"text-align: right;\">\n",
       "      <th></th>\n",
       "      <th>Alcohol</th>\n",
       "      <th>Malic_Acid</th>\n",
       "      <th>Ash</th>\n",
       "      <th>Ash_Alcanity</th>\n",
       "      <th>Magnesium</th>\n",
       "      <th>Total_Phenols</th>\n",
       "      <th>Flavanoids</th>\n",
       "      <th>Nonflavanoid_Phenols</th>\n",
       "      <th>Proanthocyanins</th>\n",
       "      <th>Color_Intensity</th>\n",
       "      <th>Hue</th>\n",
       "      <th>OD280</th>\n",
       "      <th>Proline</th>\n",
       "    </tr>\n",
       "  </thead>\n",
       "  <tbody>\n",
       "    <tr>\n",
       "      <th>0</th>\n",
       "      <td>14.23</td>\n",
       "      <td>1.71</td>\n",
       "      <td>2.43</td>\n",
       "      <td>15.6</td>\n",
       "      <td>127</td>\n",
       "      <td>2.80</td>\n",
       "      <td>3.06</td>\n",
       "      <td>0.28</td>\n",
       "      <td>2.29</td>\n",
       "      <td>5.64</td>\n",
       "      <td>1.04</td>\n",
       "      <td>3.92</td>\n",
       "      <td>1065</td>\n",
       "    </tr>\n",
       "    <tr>\n",
       "      <th>1</th>\n",
       "      <td>13.20</td>\n",
       "      <td>1.78</td>\n",
       "      <td>2.14</td>\n",
       "      <td>11.2</td>\n",
       "      <td>100</td>\n",
       "      <td>2.65</td>\n",
       "      <td>2.76</td>\n",
       "      <td>0.26</td>\n",
       "      <td>1.28</td>\n",
       "      <td>4.38</td>\n",
       "      <td>1.05</td>\n",
       "      <td>3.40</td>\n",
       "      <td>1050</td>\n",
       "    </tr>\n",
       "    <tr>\n",
       "      <th>2</th>\n",
       "      <td>13.16</td>\n",
       "      <td>2.36</td>\n",
       "      <td>2.67</td>\n",
       "      <td>18.6</td>\n",
       "      <td>101</td>\n",
       "      <td>2.80</td>\n",
       "      <td>3.24</td>\n",
       "      <td>0.30</td>\n",
       "      <td>2.81</td>\n",
       "      <td>5.68</td>\n",
       "      <td>1.03</td>\n",
       "      <td>3.17</td>\n",
       "      <td>1185</td>\n",
       "    </tr>\n",
       "    <tr>\n",
       "      <th>3</th>\n",
       "      <td>14.37</td>\n",
       "      <td>1.95</td>\n",
       "      <td>2.50</td>\n",
       "      <td>16.8</td>\n",
       "      <td>113</td>\n",
       "      <td>3.85</td>\n",
       "      <td>3.49</td>\n",
       "      <td>0.24</td>\n",
       "      <td>2.18</td>\n",
       "      <td>7.80</td>\n",
       "      <td>0.86</td>\n",
       "      <td>3.45</td>\n",
       "      <td>1480</td>\n",
       "    </tr>\n",
       "    <tr>\n",
       "      <th>4</th>\n",
       "      <td>13.24</td>\n",
       "      <td>2.59</td>\n",
       "      <td>2.87</td>\n",
       "      <td>21.0</td>\n",
       "      <td>118</td>\n",
       "      <td>2.80</td>\n",
       "      <td>2.69</td>\n",
       "      <td>0.39</td>\n",
       "      <td>1.82</td>\n",
       "      <td>4.32</td>\n",
       "      <td>1.04</td>\n",
       "      <td>2.93</td>\n",
       "      <td>735</td>\n",
       "    </tr>\n",
       "  </tbody>\n",
       "</table>\n",
       "</div>"
      ],
      "text/plain": [
       "   Alcohol  Malic_Acid   Ash  ...   Hue  OD280  Proline\n",
       "0    14.23        1.71  2.43  ...  1.04   3.92     1065\n",
       "1    13.20        1.78  2.14  ...  1.05   3.40     1050\n",
       "2    13.16        2.36  2.67  ...  1.03   3.17     1185\n",
       "3    14.37        1.95  2.50  ...  0.86   3.45     1480\n",
       "4    13.24        2.59  2.87  ...  1.04   2.93      735\n",
       "\n",
       "[5 rows x 13 columns]"
      ]
     },
     "execution_count": 26,
     "metadata": {
      "tags": []
     },
     "output_type": "execute_result"
    }
   ],
   "source": [
    "df=pd.read_csv('wine-clustering.csv')\n",
    "df.head()"
   ]
  },
  {
   "cell_type": "code",
   "execution_count": 27,
   "metadata": {
    "executionInfo": {
     "elapsed": 29,
     "status": "ok",
     "timestamp": 1622639344875,
     "user": {
      "displayName": "Ahmed Hany",
      "photoUrl": "",
      "userId": "11066611178035959836"
     },
     "user_tz": -120
    },
    "id": "AhnEXPfG1za_"
   },
   "outputs": [],
   "source": [
    "df2=df.copy()"
   ]
  },
  {
   "cell_type": "code",
   "execution_count": 28,
   "metadata": {
    "colab": {
     "base_uri": "https://localhost:8080/"
    },
    "executionInfo": {
     "elapsed": 27,
     "status": "ok",
     "timestamp": 1622639344876,
     "user": {
      "displayName": "Ahmed Hany",
      "photoUrl": "",
      "userId": "11066611178035959836"
     },
     "user_tz": -120
    },
    "id": "B9sKUEYw5z98",
    "outputId": "430e1846-cbb3-47a6-face-aef1d680731d"
   },
   "outputs": [
    {
     "name": "stdout",
     "output_type": "stream",
     "text": [
      "<class 'pandas.core.frame.DataFrame'>\n",
      "RangeIndex: 178 entries, 0 to 177\n",
      "Data columns (total 13 columns):\n",
      " #   Column                Non-Null Count  Dtype  \n",
      "---  ------                --------------  -----  \n",
      " 0   Alcohol               178 non-null    float64\n",
      " 1   Malic_Acid            178 non-null    float64\n",
      " 2   Ash                   178 non-null    float64\n",
      " 3   Ash_Alcanity          178 non-null    float64\n",
      " 4   Magnesium             178 non-null    int64  \n",
      " 5   Total_Phenols         178 non-null    float64\n",
      " 6   Flavanoids            178 non-null    float64\n",
      " 7   Nonflavanoid_Phenols  178 non-null    float64\n",
      " 8   Proanthocyanins       178 non-null    float64\n",
      " 9   Color_Intensity       178 non-null    float64\n",
      " 10  Hue                   178 non-null    float64\n",
      " 11  OD280                 178 non-null    float64\n",
      " 12  Proline               178 non-null    int64  \n",
      "dtypes: float64(11), int64(2)\n",
      "memory usage: 18.2 KB\n"
     ]
    }
   ],
   "source": [
    "df.info()"
   ]
  },
  {
   "cell_type": "code",
   "execution_count": 29,
   "metadata": {
    "colab": {
     "base_uri": "https://localhost:8080/",
     "height": 306
    },
    "executionInfo": {
     "elapsed": 15,
     "status": "ok",
     "timestamp": 1622639344876,
     "user": {
      "displayName": "Ahmed Hany",
      "photoUrl": "",
      "userId": "11066611178035959836"
     },
     "user_tz": -120
    },
    "id": "OMBqGMQa55r1",
    "outputId": "eecb8f2a-6984-4848-c728-53943531beca"
   },
   "outputs": [
    {
     "data": {
      "text/html": [
       "<div>\n",
       "<style scoped>\n",
       "    .dataframe tbody tr th:only-of-type {\n",
       "        vertical-align: middle;\n",
       "    }\n",
       "\n",
       "    .dataframe tbody tr th {\n",
       "        vertical-align: top;\n",
       "    }\n",
       "\n",
       "    .dataframe thead th {\n",
       "        text-align: right;\n",
       "    }\n",
       "</style>\n",
       "<table border=\"1\" class=\"dataframe\">\n",
       "  <thead>\n",
       "    <tr style=\"text-align: right;\">\n",
       "      <th></th>\n",
       "      <th>Alcohol</th>\n",
       "      <th>Malic_Acid</th>\n",
       "      <th>Ash</th>\n",
       "      <th>Ash_Alcanity</th>\n",
       "      <th>Magnesium</th>\n",
       "      <th>Total_Phenols</th>\n",
       "      <th>Flavanoids</th>\n",
       "      <th>Nonflavanoid_Phenols</th>\n",
       "      <th>Proanthocyanins</th>\n",
       "      <th>Color_Intensity</th>\n",
       "      <th>Hue</th>\n",
       "      <th>OD280</th>\n",
       "      <th>Proline</th>\n",
       "    </tr>\n",
       "  </thead>\n",
       "  <tbody>\n",
       "    <tr>\n",
       "      <th>count</th>\n",
       "      <td>178.000000</td>\n",
       "      <td>178.000000</td>\n",
       "      <td>178.000000</td>\n",
       "      <td>178.000000</td>\n",
       "      <td>178.000000</td>\n",
       "      <td>178.000000</td>\n",
       "      <td>178.000000</td>\n",
       "      <td>178.000000</td>\n",
       "      <td>178.000000</td>\n",
       "      <td>178.000000</td>\n",
       "      <td>178.000000</td>\n",
       "      <td>178.000000</td>\n",
       "      <td>178.000000</td>\n",
       "    </tr>\n",
       "    <tr>\n",
       "      <th>mean</th>\n",
       "      <td>13.000618</td>\n",
       "      <td>2.336348</td>\n",
       "      <td>2.366517</td>\n",
       "      <td>19.494944</td>\n",
       "      <td>99.741573</td>\n",
       "      <td>2.295112</td>\n",
       "      <td>2.029270</td>\n",
       "      <td>0.361854</td>\n",
       "      <td>1.590899</td>\n",
       "      <td>5.058090</td>\n",
       "      <td>0.957449</td>\n",
       "      <td>2.611685</td>\n",
       "      <td>746.893258</td>\n",
       "    </tr>\n",
       "    <tr>\n",
       "      <th>std</th>\n",
       "      <td>0.811827</td>\n",
       "      <td>1.117146</td>\n",
       "      <td>0.274344</td>\n",
       "      <td>3.339564</td>\n",
       "      <td>14.282484</td>\n",
       "      <td>0.625851</td>\n",
       "      <td>0.998859</td>\n",
       "      <td>0.124453</td>\n",
       "      <td>0.572359</td>\n",
       "      <td>2.318286</td>\n",
       "      <td>0.228572</td>\n",
       "      <td>0.709990</td>\n",
       "      <td>314.907474</td>\n",
       "    </tr>\n",
       "    <tr>\n",
       "      <th>min</th>\n",
       "      <td>11.030000</td>\n",
       "      <td>0.740000</td>\n",
       "      <td>1.360000</td>\n",
       "      <td>10.600000</td>\n",
       "      <td>70.000000</td>\n",
       "      <td>0.980000</td>\n",
       "      <td>0.340000</td>\n",
       "      <td>0.130000</td>\n",
       "      <td>0.410000</td>\n",
       "      <td>1.280000</td>\n",
       "      <td>0.480000</td>\n",
       "      <td>1.270000</td>\n",
       "      <td>278.000000</td>\n",
       "    </tr>\n",
       "    <tr>\n",
       "      <th>25%</th>\n",
       "      <td>12.362500</td>\n",
       "      <td>1.602500</td>\n",
       "      <td>2.210000</td>\n",
       "      <td>17.200000</td>\n",
       "      <td>88.000000</td>\n",
       "      <td>1.742500</td>\n",
       "      <td>1.205000</td>\n",
       "      <td>0.270000</td>\n",
       "      <td>1.250000</td>\n",
       "      <td>3.220000</td>\n",
       "      <td>0.782500</td>\n",
       "      <td>1.937500</td>\n",
       "      <td>500.500000</td>\n",
       "    </tr>\n",
       "    <tr>\n",
       "      <th>50%</th>\n",
       "      <td>13.050000</td>\n",
       "      <td>1.865000</td>\n",
       "      <td>2.360000</td>\n",
       "      <td>19.500000</td>\n",
       "      <td>98.000000</td>\n",
       "      <td>2.355000</td>\n",
       "      <td>2.135000</td>\n",
       "      <td>0.340000</td>\n",
       "      <td>1.555000</td>\n",
       "      <td>4.690000</td>\n",
       "      <td>0.965000</td>\n",
       "      <td>2.780000</td>\n",
       "      <td>673.500000</td>\n",
       "    </tr>\n",
       "    <tr>\n",
       "      <th>75%</th>\n",
       "      <td>13.677500</td>\n",
       "      <td>3.082500</td>\n",
       "      <td>2.557500</td>\n",
       "      <td>21.500000</td>\n",
       "      <td>107.000000</td>\n",
       "      <td>2.800000</td>\n",
       "      <td>2.875000</td>\n",
       "      <td>0.437500</td>\n",
       "      <td>1.950000</td>\n",
       "      <td>6.200000</td>\n",
       "      <td>1.120000</td>\n",
       "      <td>3.170000</td>\n",
       "      <td>985.000000</td>\n",
       "    </tr>\n",
       "    <tr>\n",
       "      <th>max</th>\n",
       "      <td>14.830000</td>\n",
       "      <td>5.800000</td>\n",
       "      <td>3.230000</td>\n",
       "      <td>30.000000</td>\n",
       "      <td>162.000000</td>\n",
       "      <td>3.880000</td>\n",
       "      <td>5.080000</td>\n",
       "      <td>0.660000</td>\n",
       "      <td>3.580000</td>\n",
       "      <td>13.000000</td>\n",
       "      <td>1.710000</td>\n",
       "      <td>4.000000</td>\n",
       "      <td>1680.000000</td>\n",
       "    </tr>\n",
       "  </tbody>\n",
       "</table>\n",
       "</div>"
      ],
      "text/plain": [
       "          Alcohol  Malic_Acid         Ash  ...         Hue       OD280      Proline\n",
       "count  178.000000  178.000000  178.000000  ...  178.000000  178.000000   178.000000\n",
       "mean    13.000618    2.336348    2.366517  ...    0.957449    2.611685   746.893258\n",
       "std      0.811827    1.117146    0.274344  ...    0.228572    0.709990   314.907474\n",
       "min     11.030000    0.740000    1.360000  ...    0.480000    1.270000   278.000000\n",
       "25%     12.362500    1.602500    2.210000  ...    0.782500    1.937500   500.500000\n",
       "50%     13.050000    1.865000    2.360000  ...    0.965000    2.780000   673.500000\n",
       "75%     13.677500    3.082500    2.557500  ...    1.120000    3.170000   985.000000\n",
       "max     14.830000    5.800000    3.230000  ...    1.710000    4.000000  1680.000000\n",
       "\n",
       "[8 rows x 13 columns]"
      ]
     },
     "execution_count": 29,
     "metadata": {
      "tags": []
     },
     "output_type": "execute_result"
    }
   ],
   "source": [
    "df.describe()"
   ]
  },
  {
   "cell_type": "code",
   "execution_count": 30,
   "metadata": {
    "colab": {
     "base_uri": "https://localhost:8080/",
     "height": 435
    },
    "executionInfo": {
     "elapsed": 357,
     "status": "ok",
     "timestamp": 1622639345220,
     "user": {
      "displayName": "Ahmed Hany",
      "photoUrl": "",
      "userId": "11066611178035959836"
     },
     "user_tz": -120
    },
    "id": "P7nbXsTc598I",
    "outputId": "a881d7fe-aedb-40f2-dfb2-609955471bd5"
   },
   "outputs": [
    {
     "data": {
      "text/html": [
       "<div>\n",
       "<style scoped>\n",
       "    .dataframe tbody tr th:only-of-type {\n",
       "        vertical-align: middle;\n",
       "    }\n",
       "\n",
       "    .dataframe tbody tr th {\n",
       "        vertical-align: top;\n",
       "    }\n",
       "\n",
       "    .dataframe thead th {\n",
       "        text-align: right;\n",
       "    }\n",
       "</style>\n",
       "<table border=\"1\" class=\"dataframe\">\n",
       "  <thead>\n",
       "    <tr style=\"text-align: right;\">\n",
       "      <th></th>\n",
       "      <th>Data types</th>\n",
       "      <th>null</th>\n",
       "      <th>unique vals</th>\n",
       "      <th>count</th>\n",
       "    </tr>\n",
       "  </thead>\n",
       "  <tbody>\n",
       "    <tr>\n",
       "      <th>Alcohol</th>\n",
       "      <td>float64</td>\n",
       "      <td>0</td>\n",
       "      <td>126</td>\n",
       "      <td>178</td>\n",
       "    </tr>\n",
       "    <tr>\n",
       "      <th>Malic_Acid</th>\n",
       "      <td>float64</td>\n",
       "      <td>0</td>\n",
       "      <td>133</td>\n",
       "      <td>178</td>\n",
       "    </tr>\n",
       "    <tr>\n",
       "      <th>Ash</th>\n",
       "      <td>float64</td>\n",
       "      <td>0</td>\n",
       "      <td>79</td>\n",
       "      <td>178</td>\n",
       "    </tr>\n",
       "    <tr>\n",
       "      <th>Ash_Alcanity</th>\n",
       "      <td>float64</td>\n",
       "      <td>0</td>\n",
       "      <td>63</td>\n",
       "      <td>178</td>\n",
       "    </tr>\n",
       "    <tr>\n",
       "      <th>Magnesium</th>\n",
       "      <td>int64</td>\n",
       "      <td>0</td>\n",
       "      <td>53</td>\n",
       "      <td>178</td>\n",
       "    </tr>\n",
       "    <tr>\n",
       "      <th>Total_Phenols</th>\n",
       "      <td>float64</td>\n",
       "      <td>0</td>\n",
       "      <td>97</td>\n",
       "      <td>178</td>\n",
       "    </tr>\n",
       "    <tr>\n",
       "      <th>Flavanoids</th>\n",
       "      <td>float64</td>\n",
       "      <td>0</td>\n",
       "      <td>132</td>\n",
       "      <td>178</td>\n",
       "    </tr>\n",
       "    <tr>\n",
       "      <th>Nonflavanoid_Phenols</th>\n",
       "      <td>float64</td>\n",
       "      <td>0</td>\n",
       "      <td>39</td>\n",
       "      <td>178</td>\n",
       "    </tr>\n",
       "    <tr>\n",
       "      <th>Proanthocyanins</th>\n",
       "      <td>float64</td>\n",
       "      <td>0</td>\n",
       "      <td>101</td>\n",
       "      <td>178</td>\n",
       "    </tr>\n",
       "    <tr>\n",
       "      <th>Color_Intensity</th>\n",
       "      <td>float64</td>\n",
       "      <td>0</td>\n",
       "      <td>132</td>\n",
       "      <td>178</td>\n",
       "    </tr>\n",
       "    <tr>\n",
       "      <th>Hue</th>\n",
       "      <td>float64</td>\n",
       "      <td>0</td>\n",
       "      <td>78</td>\n",
       "      <td>178</td>\n",
       "    </tr>\n",
       "    <tr>\n",
       "      <th>OD280</th>\n",
       "      <td>float64</td>\n",
       "      <td>0</td>\n",
       "      <td>122</td>\n",
       "      <td>178</td>\n",
       "    </tr>\n",
       "    <tr>\n",
       "      <th>Proline</th>\n",
       "      <td>int64</td>\n",
       "      <td>0</td>\n",
       "      <td>121</td>\n",
       "      <td>178</td>\n",
       "    </tr>\n",
       "  </tbody>\n",
       "</table>\n",
       "</div>"
      ],
      "text/plain": [
       "                     Data types  null  unique vals  count\n",
       "Alcohol                 float64     0          126    178\n",
       "Malic_Acid              float64     0          133    178\n",
       "Ash                     float64     0           79    178\n",
       "Ash_Alcanity            float64     0           63    178\n",
       "Magnesium                 int64     0           53    178\n",
       "Total_Phenols           float64     0           97    178\n",
       "Flavanoids              float64     0          132    178\n",
       "Nonflavanoid_Phenols    float64     0           39    178\n",
       "Proanthocyanins         float64     0          101    178\n",
       "Color_Intensity         float64     0          132    178\n",
       "Hue                     float64     0           78    178\n",
       "OD280                   float64     0          122    178\n",
       "Proline                   int64     0          121    178"
      ]
     },
     "execution_count": 30,
     "metadata": {
      "tags": []
     },
     "output_type": "execute_result"
    }
   ],
   "source": [
    "train_dict=pd.DataFrame(df.dtypes,columns=['Data types'])\n",
    "train_dict['null']=df.isnull().sum()\n",
    "train_dict['unique vals']=df.nunique()\n",
    "train_dict['count']=df.count()\n",
    "train_dict"
   ]
  },
  {
   "cell_type": "markdown",
   "metadata": {
    "id": "jo3odaOGFk-4"
   },
   "source": [
    "Data preprocessing"
   ]
  },
  {
   "cell_type": "code",
   "execution_count": 31,
   "metadata": {
    "colab": {
     "base_uri": "https://localhost:8080/",
     "height": 196
    },
    "executionInfo": {
     "elapsed": 13,
     "status": "ok",
     "timestamp": 1622639345221,
     "user": {
      "displayName": "Ahmed Hany",
      "photoUrl": "",
      "userId": "11066611178035959836"
     },
     "user_tz": -120
    },
    "id": "WzF5yfXr6Lrk",
    "outputId": "ac5d7608-d115-41e0-c57e-dbb353647518"
   },
   "outputs": [
    {
     "data": {
      "text/html": [
       "<div>\n",
       "<style scoped>\n",
       "    .dataframe tbody tr th:only-of-type {\n",
       "        vertical-align: middle;\n",
       "    }\n",
       "\n",
       "    .dataframe tbody tr th {\n",
       "        vertical-align: top;\n",
       "    }\n",
       "\n",
       "    .dataframe thead th {\n",
       "        text-align: right;\n",
       "    }\n",
       "</style>\n",
       "<table border=\"1\" class=\"dataframe\">\n",
       "  <thead>\n",
       "    <tr style=\"text-align: right;\">\n",
       "      <th></th>\n",
       "      <th>Alcohol</th>\n",
       "      <th>Malic_Acid</th>\n",
       "      <th>Ash</th>\n",
       "      <th>Ash_Alcanity</th>\n",
       "      <th>Magnesium</th>\n",
       "      <th>Total_Phenols</th>\n",
       "      <th>Flavanoids</th>\n",
       "      <th>Nonflavanoid_Phenols</th>\n",
       "      <th>Proanthocyanins</th>\n",
       "      <th>Color_Intensity</th>\n",
       "      <th>Hue</th>\n",
       "      <th>OD280</th>\n",
       "      <th>Proline</th>\n",
       "    </tr>\n",
       "  </thead>\n",
       "  <tbody>\n",
       "    <tr>\n",
       "      <th>0</th>\n",
       "      <td>14.23</td>\n",
       "      <td>1.71</td>\n",
       "      <td>2.43</td>\n",
       "      <td>15.6</td>\n",
       "      <td>127</td>\n",
       "      <td>2.80</td>\n",
       "      <td>3.06</td>\n",
       "      <td>0.28</td>\n",
       "      <td>2.29</td>\n",
       "      <td>5.64</td>\n",
       "      <td>1.04</td>\n",
       "      <td>3.92</td>\n",
       "      <td>1065</td>\n",
       "    </tr>\n",
       "    <tr>\n",
       "      <th>1</th>\n",
       "      <td>13.20</td>\n",
       "      <td>1.78</td>\n",
       "      <td>2.14</td>\n",
       "      <td>11.2</td>\n",
       "      <td>100</td>\n",
       "      <td>2.65</td>\n",
       "      <td>2.76</td>\n",
       "      <td>0.26</td>\n",
       "      <td>1.28</td>\n",
       "      <td>4.38</td>\n",
       "      <td>1.05</td>\n",
       "      <td>3.40</td>\n",
       "      <td>1050</td>\n",
       "    </tr>\n",
       "    <tr>\n",
       "      <th>2</th>\n",
       "      <td>13.16</td>\n",
       "      <td>2.36</td>\n",
       "      <td>2.67</td>\n",
       "      <td>18.6</td>\n",
       "      <td>101</td>\n",
       "      <td>2.80</td>\n",
       "      <td>3.24</td>\n",
       "      <td>0.30</td>\n",
       "      <td>2.81</td>\n",
       "      <td>5.68</td>\n",
       "      <td>1.03</td>\n",
       "      <td>3.17</td>\n",
       "      <td>1185</td>\n",
       "    </tr>\n",
       "    <tr>\n",
       "      <th>3</th>\n",
       "      <td>14.37</td>\n",
       "      <td>1.95</td>\n",
       "      <td>2.50</td>\n",
       "      <td>16.8</td>\n",
       "      <td>113</td>\n",
       "      <td>3.85</td>\n",
       "      <td>3.49</td>\n",
       "      <td>0.24</td>\n",
       "      <td>2.18</td>\n",
       "      <td>7.80</td>\n",
       "      <td>0.86</td>\n",
       "      <td>3.45</td>\n",
       "      <td>1480</td>\n",
       "    </tr>\n",
       "    <tr>\n",
       "      <th>4</th>\n",
       "      <td>13.24</td>\n",
       "      <td>2.59</td>\n",
       "      <td>2.87</td>\n",
       "      <td>21.0</td>\n",
       "      <td>118</td>\n",
       "      <td>2.80</td>\n",
       "      <td>2.69</td>\n",
       "      <td>0.39</td>\n",
       "      <td>1.82</td>\n",
       "      <td>4.32</td>\n",
       "      <td>1.04</td>\n",
       "      <td>2.93</td>\n",
       "      <td>735</td>\n",
       "    </tr>\n",
       "  </tbody>\n",
       "</table>\n",
       "</div>"
      ],
      "text/plain": [
       "   Alcohol  Malic_Acid   Ash  ...   Hue  OD280  Proline\n",
       "0    14.23        1.71  2.43  ...  1.04   3.92     1065\n",
       "1    13.20        1.78  2.14  ...  1.05   3.40     1050\n",
       "2    13.16        2.36  2.67  ...  1.03   3.17     1185\n",
       "3    14.37        1.95  2.50  ...  0.86   3.45     1480\n",
       "4    13.24        2.59  2.87  ...  1.04   2.93      735\n",
       "\n",
       "[5 rows x 13 columns]"
      ]
     },
     "execution_count": 31,
     "metadata": {
      "tags": []
     },
     "output_type": "execute_result"
    }
   ],
   "source": [
    "from sklearn.preprocessing import StandardScaler\n",
    "scaler=StandardScaler()\n",
    "scaler.fit_transform(df)\n",
    "df.head()"
   ]
  },
  {
   "cell_type": "code",
   "execution_count": 32,
   "metadata": {
    "colab": {
     "base_uri": "https://localhost:8080/",
     "height": 196
    },
    "executionInfo": {
     "elapsed": 12,
     "status": "ok",
     "timestamp": 1622639345222,
     "user": {
      "displayName": "Ahmed Hany",
      "photoUrl": "",
      "userId": "11066611178035959836"
     },
     "user_tz": -120
    },
    "id": "k7MR3ZL36an-",
    "outputId": "33b881da-d5c5-424a-ca68-f4e69df0930e"
   },
   "outputs": [
    {
     "data": {
      "text/html": [
       "<div>\n",
       "<style scoped>\n",
       "    .dataframe tbody tr th:only-of-type {\n",
       "        vertical-align: middle;\n",
       "    }\n",
       "\n",
       "    .dataframe tbody tr th {\n",
       "        vertical-align: top;\n",
       "    }\n",
       "\n",
       "    .dataframe thead th {\n",
       "        text-align: right;\n",
       "    }\n",
       "</style>\n",
       "<table border=\"1\" class=\"dataframe\">\n",
       "  <thead>\n",
       "    <tr style=\"text-align: right;\">\n",
       "      <th></th>\n",
       "      <th>PCA1</th>\n",
       "      <th>PCA2</th>\n",
       "    </tr>\n",
       "  </thead>\n",
       "  <tbody>\n",
       "    <tr>\n",
       "      <th>0</th>\n",
       "      <td>318.562979</td>\n",
       "      <td>21.492131</td>\n",
       "    </tr>\n",
       "    <tr>\n",
       "      <th>1</th>\n",
       "      <td>303.097420</td>\n",
       "      <td>-5.364718</td>\n",
       "    </tr>\n",
       "    <tr>\n",
       "      <th>2</th>\n",
       "      <td>438.061133</td>\n",
       "      <td>-6.537309</td>\n",
       "    </tr>\n",
       "    <tr>\n",
       "      <th>3</th>\n",
       "      <td>733.240139</td>\n",
       "      <td>0.192729</td>\n",
       "    </tr>\n",
       "    <tr>\n",
       "      <th>4</th>\n",
       "      <td>-11.571428</td>\n",
       "      <td>18.489995</td>\n",
       "    </tr>\n",
       "  </tbody>\n",
       "</table>\n",
       "</div>"
      ],
      "text/plain": [
       "         PCA1       PCA2\n",
       "0  318.562979  21.492131\n",
       "1  303.097420  -5.364718\n",
       "2  438.061133  -6.537309\n",
       "3  733.240139   0.192729\n",
       "4  -11.571428  18.489995"
      ]
     },
     "execution_count": 32,
     "metadata": {
      "tags": []
     },
     "output_type": "execute_result"
    }
   ],
   "source": [
    "from sklearn.decomposition import PCA\n",
    "pca = PCA(n_components=2)\n",
    "reduced=pd.DataFrame(pca.fit_transform(df),columns=['PCA1','PCA2'])\n",
    "reduced.head()"
   ]
  },
  {
   "cell_type": "markdown",
   "metadata": {
    "id": "oVD5xaHIFgRx"
   },
   "source": [
    "Kmedoids"
   ]
  },
  {
   "cell_type": "code",
   "execution_count": 33,
   "metadata": {
    "colab": {
     "base_uri": "https://localhost:8080/",
     "height": 390
    },
    "executionInfo": {
     "elapsed": 366,
     "status": "ok",
     "timestamp": 1622639345577,
     "user": {
      "displayName": "Ahmed Hany",
      "photoUrl": "",
      "userId": "11066611178035959836"
     },
     "user_tz": -120
    },
    "id": "OPFFAoA0TEAC",
    "outputId": "b916e766-7eab-4627-b62b-1430c58e4055"
   },
   "outputs": [
    {
     "data": {
      "image/png": "[encoded data removed]",
      "text/plain": [
       "<Figure size 576x432 with 1 Axes>"
      ]
     },
     "metadata": {
      "needs_background": "light",
      "tags": []
     },
     "output_type": "display_data"
    }
   ],
   "source": [
    "#elbow method to know the number of clusters\n",
    "ints=[]\n",
    "for i in range(1,10):\n",
    "    kmedoids=KMedoids(n_clusters=i,init=\"k-medoids++\")\n",
    "    kmedoids.fit_predict(reduced)\n",
    "    ints.append(kmedoids.inertia_)\n",
    "\n",
    "plt.figure(figsize=(8,6))\n",
    "plt.plot(range(1,10),ints, marker=\"*\")\n",
    "plt.title(\"Elbow Method\")\n",
    "plt.show()"
   ]
  },
  {
   "cell_type": "code",
   "execution_count": 34,
   "metadata": {
    "colab": {
     "base_uri": "https://localhost:8080/"
    },
    "executionInfo": {
     "elapsed": 42,
     "status": "ok",
     "timestamp": 1622639345578,
     "user": {
      "displayName": "Ahmed Hany",
      "photoUrl": "",
      "userId": "11066611178035959836"
     },
     "user_tz": -120
    },
    "id": "G674Uk-lYDyE",
    "outputId": "089199fc-3221-41e7-fc96-a550ebc10f88"
   },
   "outputs": [
    {
     "data": {
      "text/plain": [
       "array([0, 0, 0, 0, 1, 0, 0, 0, 0, 0, 0, 0, 0, 0, 0, 0, 0, 0, 0, 1, 1, 1,\n",
       "       0, 0, 1, 1, 0, 0, 1, 0, 0, 0, 0, 0, 0, 1, 1, 0, 0, 1, 1, 0, 0, 1,\n",
       "       1, 0, 0, 0, 0, 0, 0, 0, 0, 0, 0, 0, 0, 0, 0, 2, 1, 2, 1, 2, 2, 1,\n",
       "       2, 2, 1, 1, 1, 2, 2, 0, 1, 2, 2, 2, 1, 2, 2, 1, 1, 2, 2, 2, 2, 2,\n",
       "       1, 1, 2, 2, 2, 2, 2, 0, 1, 2, 1, 2, 1, 2, 2, 2, 1, 2, 2, 2, 2, 1,\n",
       "       2, 2, 1, 2, 2, 2, 2, 2, 2, 2, 1, 2, 2, 2, 2, 2, 2, 2, 2, 2, 1, 2,\n",
       "       2, 1, 1, 1, 1, 2, 2, 1, 1, 1, 2, 2, 1, 1, 2, 1, 1, 2, 2, 2, 2, 1,\n",
       "       1, 1, 2, 1, 1, 1, 2, 1, 1, 1, 1, 2, 1, 1, 1, 1, 2, 2, 1, 1, 1, 1,\n",
       "       1, 2])"
      ]
     },
     "execution_count": 34,
     "metadata": {
      "tags": []
     },
     "output_type": "execute_result"
    }
   ],
   "source": [
    "cluster=KMedoids(n_clusters=3,metric=\"manhattan\",init='random',random_state=100)\n",
    "y_pridect=cluster.fit_predict(df)\n",
    "y_pridect"
   ]
  },
  {
   "cell_type": "code",
   "execution_count": 35,
   "metadata": {
    "executionInfo": {
     "elapsed": 33,
     "status": "ok",
     "timestamp": 1622639345579,
     "user": {
      "displayName": "Ahmed Hany",
      "photoUrl": "",
      "userId": "11066611178035959836"
     },
     "user_tz": -120
    },
    "id": "5M5lDMqh1E_l"
   },
   "outputs": [],
   "source": [
    "df['cluster']=y_pridect"
   ]
  },
  {
   "cell_type": "code",
   "execution_count": 36,
   "metadata": {
    "colab": {
     "base_uri": "https://localhost:8080/",
     "height": 196
    },
    "executionInfo": {
     "elapsed": 33,
     "status": "ok",
     "timestamp": 1622639345581,
     "user": {
      "displayName": "Ahmed Hany",
      "photoUrl": "",
      "userId": "11066611178035959836"
     },
     "user_tz": -120
    },
    "id": "fh_B8fRoYRPN",
    "outputId": "ab01f651-9591-492c-c576-1982fbc0c014"
   },
   "outputs": [
    {
     "data": {
      "text/html": [
       "<div>\n",
       "<style scoped>\n",
       "    .dataframe tbody tr th:only-of-type {\n",
       "        vertical-align: middle;\n",
       "    }\n",
       "\n",
       "    .dataframe tbody tr th {\n",
       "        vertical-align: top;\n",
       "    }\n",
       "\n",
       "    .dataframe thead th {\n",
       "        text-align: right;\n",
       "    }\n",
       "</style>\n",
       "<table border=\"1\" class=\"dataframe\">\n",
       "  <thead>\n",
       "    <tr style=\"text-align: right;\">\n",
       "      <th></th>\n",
       "      <th>PCA1</th>\n",
       "      <th>PCA2</th>\n",
       "      <th>cluster</th>\n",
       "    </tr>\n",
       "  </thead>\n",
       "  <tbody>\n",
       "    <tr>\n",
       "      <th>0</th>\n",
       "      <td>318.562979</td>\n",
       "      <td>21.492131</td>\n",
       "      <td>0</td>\n",
       "    </tr>\n",
       "    <tr>\n",
       "      <th>1</th>\n",
       "      <td>303.097420</td>\n",
       "      <td>-5.364718</td>\n",
       "      <td>0</td>\n",
       "    </tr>\n",
       "    <tr>\n",
       "      <th>2</th>\n",
       "      <td>438.061133</td>\n",
       "      <td>-6.537309</td>\n",
       "      <td>0</td>\n",
       "    </tr>\n",
       "    <tr>\n",
       "      <th>3</th>\n",
       "      <td>733.240139</td>\n",
       "      <td>0.192729</td>\n",
       "      <td>0</td>\n",
       "    </tr>\n",
       "    <tr>\n",
       "      <th>4</th>\n",
       "      <td>-11.571428</td>\n",
       "      <td>18.489995</td>\n",
       "      <td>1</td>\n",
       "    </tr>\n",
       "  </tbody>\n",
       "</table>\n",
       "</div>"
      ],
      "text/plain": [
       "         PCA1       PCA2  cluster\n",
       "0  318.562979  21.492131        0\n",
       "1  303.097420  -5.364718        0\n",
       "2  438.061133  -6.537309        0\n",
       "3  733.240139   0.192729        0\n",
       "4  -11.571428  18.489995        1"
      ]
     },
     "execution_count": 36,
     "metadata": {
      "tags": []
     },
     "output_type": "execute_result"
    }
   ],
   "source": [
    "reduced['cluster']=y_pridect\n",
    "reduced.head()"
   ]
  },
  {
   "cell_type": "code",
   "execution_count": 37,
   "metadata": {
    "colab": {
     "base_uri": "https://localhost:8080/"
    },
    "executionInfo": {
     "elapsed": 29,
     "status": "ok",
     "timestamp": 1622639345582,
     "user": {
      "displayName": "Ahmed Hany",
      "photoUrl": "",
      "userId": "11066611178035959836"
     },
     "user_tz": -120
    },
    "id": "cWhlWySG-V70",
    "outputId": "8a068f1b-235d-4162-b1c3-f3cbcd3f4390"
   },
   "outputs": [
    {
     "data": {
      "text/plain": [
       "array([[ 406.00960157,   -3.0156107 ],\n",
       "       [ -98.86676825,   10.32567096],\n",
       "       [-307.14283333,   -7.31006025]])"
      ]
     },
     "execution_count": 37,
     "metadata": {
      "tags": []
     },
     "output_type": "execute_result"
    }
   ],
   "source": [
    "reduced_centers=pca.fit_transform(cluster.cluster_centers_)\n",
    "reduced_centers"
   ]
  },
  {
   "cell_type": "markdown",
   "metadata": {
    "id": "q_erZL0CFq3Y"
   },
   "source": [
    "Visualizing"
   ]
  },
  {
   "cell_type": "code",
   "execution_count": 38,
   "metadata": {
    "colab": {
     "base_uri": "https://localhost:8080/",
     "height": 592
    },
    "executionInfo": {
     "elapsed": 429,
     "status": "ok",
     "timestamp": 1622639345992,
     "user": {
      "displayName": "Ahmed Hany",
      "photoUrl": "",
      "userId": "11066611178035959836"
     },
     "user_tz": -120
    },
    "id": "af5eNgyu9Sh1",
    "outputId": "805e7613-5889-4d90-8dbf-f9383d60098d"
   },
   "outputs": [
    {
     "data": {
      "image/png": "[encoded data removed]",
      "text/plain": [
       "<Figure size 1008x720 with 1 Axes>"
      ]
     },
     "metadata": {
      "needs_background": "light",
      "tags": []
     },
     "output_type": "display_data"
    }
   ],
   "source": [
    "\n",
    "#plotting clusters\n",
    "plt.figure(figsize=(14,10))\n",
    "plt.scatter(reduced[reduced['cluster'] == 0].loc[:, 'PCA1'], reduced[reduced['cluster'] == 0].loc[:, 'PCA2'], color='blue')\n",
    "plt.scatter(reduced[reduced['cluster'] == 1].loc[:, 'PCA1'], reduced[reduced['cluster'] == 1].loc[:, 'PCA2'], color='green')\n",
    "plt.scatter(reduced[reduced['cluster'] == 2].loc[:, 'PCA1'], reduced[reduced['cluster'] == 2].loc[:, 'PCA2'], color='yellow')\n",
    "\n",
    "\n",
    "\n",
    "\n",
    "\n",
    "#plotting centers\n",
    "plt.scatter(x=reduced_centers[:,0],y=reduced_centers[:,1],color='black',marker='x',s=300)\n",
    "plt.show()"
   ]
  },
  {
   "cell_type": "code",
   "execution_count": 39,
   "metadata": {
    "colab": {
     "base_uri": "https://localhost:8080/",
     "height": 186
    },
    "executionInfo": {
     "elapsed": 20,
     "status": "ok",
     "timestamp": 1622639345995,
     "user": {
      "displayName": "Ahmed Hany",
      "photoUrl": "",
      "userId": "11066611178035959836"
     },
     "user_tz": -120
    },
    "id": "N7poeBpU0pfZ",
    "outputId": "ac48705f-1f9c-4b61-97d1-b6afeab78eaf"
   },
   "outputs": [
    {
     "data": {
      "text/html": [
       "<div>\n",
       "<style scoped>\n",
       "    .dataframe tbody tr th:only-of-type {\n",
       "        vertical-align: middle;\n",
       "    }\n",
       "\n",
       "    .dataframe tbody tr th {\n",
       "        vertical-align: top;\n",
       "    }\n",
       "\n",
       "    .dataframe thead th {\n",
       "        text-align: right;\n",
       "    }\n",
       "</style>\n",
       "<table border=\"1\" class=\"dataframe\">\n",
       "  <thead>\n",
       "    <tr style=\"text-align: right;\">\n",
       "      <th></th>\n",
       "      <th>Alcohol</th>\n",
       "      <th>Ash</th>\n",
       "      <th>Ash_Alcanity</th>\n",
       "      <th>Color_Intensity</th>\n",
       "      <th>Flavanoids</th>\n",
       "      <th>Hue</th>\n",
       "      <th>Magnesium</th>\n",
       "      <th>Malic_Acid</th>\n",
       "      <th>Nonflavanoid_Phenols</th>\n",
       "      <th>OD280</th>\n",
       "      <th>Proanthocyanins</th>\n",
       "      <th>Proline</th>\n",
       "      <th>Total_Phenols</th>\n",
       "    </tr>\n",
       "    <tr>\n",
       "      <th>cluster</th>\n",
       "      <th></th>\n",
       "      <th></th>\n",
       "      <th></th>\n",
       "      <th></th>\n",
       "      <th></th>\n",
       "      <th></th>\n",
       "      <th></th>\n",
       "      <th></th>\n",
       "      <th></th>\n",
       "      <th></th>\n",
       "      <th></th>\n",
       "      <th></th>\n",
       "      <th></th>\n",
       "    </tr>\n",
       "  </thead>\n",
       "  <tbody>\n",
       "    <tr>\n",
       "      <th>0</th>\n",
       "      <td>13.776667</td>\n",
       "      <td>2.421458</td>\n",
       "      <td>17.064583</td>\n",
       "      <td>5.637917</td>\n",
       "      <td>2.998750</td>\n",
       "      <td>1.080000</td>\n",
       "      <td>106.687500</td>\n",
       "      <td>1.875833</td>\n",
       "      <td>0.286042</td>\n",
       "      <td>3.103958</td>\n",
       "      <td>1.938958</td>\n",
       "      <td>1189.770833</td>\n",
       "      <td>2.859583</td>\n",
       "    </tr>\n",
       "    <tr>\n",
       "      <th>1</th>\n",
       "      <td>12.934444</td>\n",
       "      <td>2.417302</td>\n",
       "      <td>20.003175</td>\n",
       "      <td>5.686032</td>\n",
       "      <td>1.541905</td>\n",
       "      <td>0.879460</td>\n",
       "      <td>102.666667</td>\n",
       "      <td>2.539048</td>\n",
       "      <td>0.395079</td>\n",
       "      <td>2.353810</td>\n",
       "      <td>1.455556</td>\n",
       "      <td>720.317460</td>\n",
       "      <td>2.100952</td>\n",
       "    </tr>\n",
       "    <tr>\n",
       "      <th>2</th>\n",
       "      <td>12.506866</td>\n",
       "      <td>2.279403</td>\n",
       "      <td>20.758209</td>\n",
       "      <td>4.052239</td>\n",
       "      <td>1.792985</td>\n",
       "      <td>0.942985</td>\n",
       "      <td>92.014925</td>\n",
       "      <td>2.475672</td>\n",
       "      <td>0.384925</td>\n",
       "      <td>2.501493</td>\n",
       "      <td>1.468806</td>\n",
       "      <td>454.597015</td>\n",
       "      <td>2.073284</td>\n",
       "    </tr>\n",
       "  </tbody>\n",
       "</table>\n",
       "</div>"
      ],
      "text/plain": [
       "           Alcohol       Ash  ...      Proline  Total_Phenols\n",
       "cluster                       ...                            \n",
       "0        13.776667  2.421458  ...  1189.770833       2.859583\n",
       "1        12.934444  2.417302  ...   720.317460       2.100952\n",
       "2        12.506866  2.279403  ...   454.597015       2.073284\n",
       "\n",
       "[3 rows x 13 columns]"
      ]
     },
     "execution_count": 39,
     "metadata": {
      "tags": []
     },
     "output_type": "execute_result"
    }
   ],
   "source": [
    "table=pd.pivot_table(df,index=['cluster'])\n",
    "table"
   ]
  },
  {
   "cell_type": "markdown",
   "metadata": {
    "id": "Txtz0TvOGoVv"
   },
   "source": [
    "Hierarchichal clustering"
   ]
  },
  {
   "cell_type": "code",
   "execution_count": 40,
   "metadata": {
    "colab": {
     "base_uri": "https://localhost:8080/",
     "height": 313
    },
    "executionInfo": {
     "elapsed": 5849,
     "status": "ok",
     "timestamp": 1622639351830,
     "user": {
      "displayName": "Ahmed Hany",
      "photoUrl": "",
      "userId": "11066611178035959836"
     },
     "user_tz": -120
    },
    "id": "6XjcFPDMIMmS",
    "outputId": "29b115c9-87c5-4214-9f66-f043b7503080"
   },
   "outputs": [
    {
     "data": {
      "text/plain": [
       "Text(0, 0.5, 'Y_lables')"
      ]
     },
     "execution_count": 40,
     "metadata": {
      "tags": []
     },
     "output_type": "execute_result"
    },
    {
     "data": {
      "image/png": "[encoded data removed]",
      "text/plain": [
       "<Figure size 432x288 with 1 Axes>"
      ]
     },
     "metadata": {
      "needs_background": "light",
      "tags": []
     },
     "output_type": "display_data"
    }
   ],
   "source": [
    "#knowing the number of clusters from the dendrogram\n",
    "import scipy.cluster.hierarchy as sch\n",
    "den=sch.dendrogram(sch.linkage(df,'single'))\n",
    "plt.title('dendrogram')\n",
    "plt.xlabel('X_values')\n",
    "plt.ylabel('Y_lables')"
   ]
  },
  {
   "cell_type": "code",
   "execution_count": 41,
   "metadata": {
    "colab": {
     "base_uri": "https://localhost:8080/"
    },
    "executionInfo": {
     "elapsed": 15,
     "status": "ok",
     "timestamp": 1622639351831,
     "user": {
      "displayName": "Ahmed Hany",
      "photoUrl": "",
      "userId": "11066611178035959836"
     },
     "user_tz": -120
    },
    "id": "b1VelyCk-CXS",
    "outputId": "ee489fdb-3dbe-4dcd-9165-6cdbf21c2232"
   },
   "outputs": [
    {
     "data": {
      "text/plain": [
       "array([1, 1, 6, 2, 4, 2, 0, 0, 1, 1, 2, 0, 0, 1, 2, 0, 0, 1, 7, 3, 4, 4,\n",
       "       1, 1, 3, 3, 6, 0, 3, 1, 0, 2, 1, 0, 1, 3, 3, 1, 1, 4, 4, 1, 1, 4,\n",
       "       3, 1, 1, 1, 1, 0, 1, 0, 6, 9, 1, 1, 1, 0, 0, 4, 4, 4, 4, 4, 4, 4,\n",
       "       4, 4, 4, 5, 3, 4, 4, 1, 3, 4, 4, 4, 4, 4, 4, 4, 4, 4, 4, 4, 4, 4,\n",
       "       4, 4, 4, 4, 4, 4, 4, 8, 4, 4, 4, 4, 4, 4, 4, 4, 4, 4, 4, 4, 4, 4,\n",
       "       4, 4, 4, 4, 4, 4, 4, 4, 4, 4, 4, 4, 4, 4, 4, 4, 4, 4, 4, 4, 4, 4,\n",
       "       4, 4, 4, 4, 4, 4, 4, 4, 4, 4, 4, 4, 3, 3, 4, 4, 4, 4, 4, 4, 4, 4,\n",
       "       4, 4, 4, 3, 4, 4, 4, 4, 4, 4, 4, 4, 4, 4, 4, 4, 4, 4, 4, 4, 4, 3,\n",
       "       3, 4])"
      ]
     },
     "execution_count": 41,
     "metadata": {
      "tags": []
     },
     "output_type": "execute_result"
    }
   ],
   "source": [
    "from sklearn.cluster import AgglomerativeClustering\n",
    "cluster=AgglomerativeClustering(n_clusters=10,affinity='euclidean',linkage='single')\n",
    "y_pridect_2=cluster.fit_predict(df)\n",
    "y_pridect_2"
   ]
  },
  {
   "cell_type": "code",
   "execution_count": 45,
   "metadata": {
    "executionInfo": {
     "elapsed": 257,
     "status": "ok",
     "timestamp": 1622639442660,
     "user": {
      "displayName": "Ahmed Hany",
      "photoUrl": "",
      "userId": "11066611178035959836"
     },
     "user_tz": -120
    },
    "id": "-jUyQsrl2DzQ"
   },
   "outputs": [],
   "source": [
    "df2['cluster']=y_pridect_2"
   ]
  },
  {
   "cell_type": "code",
   "execution_count": 42,
   "metadata": {
    "colab": {
     "base_uri": "https://localhost:8080/",
     "height": 196
    },
    "executionInfo": {
     "elapsed": 15,
     "status": "ok",
     "timestamp": 1622639351835,
     "user": {
      "displayName": "Ahmed Hany",
      "photoUrl": "",
      "userId": "11066611178035959836"
     },
     "user_tz": -120
    },
    "id": "PMNRw4l0IQJE",
    "outputId": "953d50d1-895d-4fcd-b184-279605b382e0"
   },
   "outputs": [
    {
     "data": {
      "text/html": [
       "<div>\n",
       "<style scoped>\n",
       "    .dataframe tbody tr th:only-of-type {\n",
       "        vertical-align: middle;\n",
       "    }\n",
       "\n",
       "    .dataframe tbody tr th {\n",
       "        vertical-align: top;\n",
       "    }\n",
       "\n",
       "    .dataframe thead th {\n",
       "        text-align: right;\n",
       "    }\n",
       "</style>\n",
       "<table border=\"1\" class=\"dataframe\">\n",
       "  <thead>\n",
       "    <tr style=\"text-align: right;\">\n",
       "      <th></th>\n",
       "      <th>PCA1</th>\n",
       "      <th>PCA2</th>\n",
       "    </tr>\n",
       "  </thead>\n",
       "  <tbody>\n",
       "    <tr>\n",
       "      <th>0</th>\n",
       "      <td>318.564692</td>\n",
       "      <td>21.493411</td>\n",
       "    </tr>\n",
       "    <tr>\n",
       "      <th>1</th>\n",
       "      <td>303.099174</td>\n",
       "      <td>-5.363078</td>\n",
       "    </tr>\n",
       "    <tr>\n",
       "      <th>2</th>\n",
       "      <td>438.062522</td>\n",
       "      <td>-6.536921</td>\n",
       "    </tr>\n",
       "    <tr>\n",
       "      <th>3</th>\n",
       "      <td>733.240730</td>\n",
       "      <td>0.190342</td>\n",
       "    </tr>\n",
       "    <tr>\n",
       "      <th>4</th>\n",
       "      <td>-11.571149</td>\n",
       "      <td>18.490378</td>\n",
       "    </tr>\n",
       "  </tbody>\n",
       "</table>\n",
       "</div>"
      ],
      "text/plain": [
       "         PCA1       PCA2\n",
       "0  318.564692  21.493411\n",
       "1  303.099174  -5.363078\n",
       "2  438.062522  -6.536921\n",
       "3  733.240730   0.190342\n",
       "4  -11.571149  18.490378"
      ]
     },
     "execution_count": 42,
     "metadata": {
      "tags": []
     },
     "output_type": "execute_result"
    }
   ],
   "source": [
    "pca = PCA(n_components=2)\n",
    "reduced_2=pd.DataFrame(pca.fit_transform(df),columns=['PCA1','PCA2'])\n",
    "reduced_2.head()"
   ]
  },
  {
   "cell_type": "code",
   "execution_count": 43,
   "metadata": {
    "colab": {
     "base_uri": "https://localhost:8080/",
     "height": 196
    },
    "executionInfo": {
     "elapsed": 460,
     "status": "ok",
     "timestamp": 1622639352282,
     "user": {
      "displayName": "Ahmed Hany",
      "photoUrl": "",
      "userId": "11066611178035959836"
     },
     "user_tz": -120
    },
    "id": "XkFfy0jLMMK1",
    "outputId": "74901cb5-804f-4557-a7f3-a09cdd9d35a1"
   },
   "outputs": [
    {
     "data": {
      "text/html": [
       "<div>\n",
       "<style scoped>\n",
       "    .dataframe tbody tr th:only-of-type {\n",
       "        vertical-align: middle;\n",
       "    }\n",
       "\n",
       "    .dataframe tbody tr th {\n",
       "        vertical-align: top;\n",
       "    }\n",
       "\n",
       "    .dataframe thead th {\n",
       "        text-align: right;\n",
       "    }\n",
       "</style>\n",
       "<table border=\"1\" class=\"dataframe\">\n",
       "  <thead>\n",
       "    <tr style=\"text-align: right;\">\n",
       "      <th></th>\n",
       "      <th>PCA1</th>\n",
       "      <th>PCA2</th>\n",
       "      <th>cluster</th>\n",
       "    </tr>\n",
       "  </thead>\n",
       "  <tbody>\n",
       "    <tr>\n",
       "      <th>0</th>\n",
       "      <td>318.564692</td>\n",
       "      <td>21.493411</td>\n",
       "      <td>1</td>\n",
       "    </tr>\n",
       "    <tr>\n",
       "      <th>1</th>\n",
       "      <td>303.099174</td>\n",
       "      <td>-5.363078</td>\n",
       "      <td>1</td>\n",
       "    </tr>\n",
       "    <tr>\n",
       "      <th>2</th>\n",
       "      <td>438.062522</td>\n",
       "      <td>-6.536921</td>\n",
       "      <td>6</td>\n",
       "    </tr>\n",
       "    <tr>\n",
       "      <th>3</th>\n",
       "      <td>733.240730</td>\n",
       "      <td>0.190342</td>\n",
       "      <td>2</td>\n",
       "    </tr>\n",
       "    <tr>\n",
       "      <th>4</th>\n",
       "      <td>-11.571149</td>\n",
       "      <td>18.490378</td>\n",
       "      <td>4</td>\n",
       "    </tr>\n",
       "  </tbody>\n",
       "</table>\n",
       "</div>"
      ],
      "text/plain": [
       "         PCA1       PCA2  cluster\n",
       "0  318.564692  21.493411        1\n",
       "1  303.099174  -5.363078        1\n",
       "2  438.062522  -6.536921        6\n",
       "3  733.240730   0.190342        2\n",
       "4  -11.571149  18.490378        4"
      ]
     },
     "execution_count": 43,
     "metadata": {
      "tags": []
     },
     "output_type": "execute_result"
    }
   ],
   "source": [
    "reduced_2['cluster']=y_pridect_2\n",
    "reduced_2.head()"
   ]
  },
  {
   "cell_type": "markdown",
   "metadata": {
    "id": "WPZROMLA2c7B"
   },
   "source": [
    "Visualizing"
   ]
  },
  {
   "cell_type": "code",
   "execution_count": 44,
   "metadata": {
    "colab": {
     "base_uri": "https://localhost:8080/",
     "height": 592
    },
    "executionInfo": {
     "elapsed": 33,
     "status": "ok",
     "timestamp": 1622639352286,
     "user": {
      "displayName": "Ahmed Hany",
      "photoUrl": "",
      "userId": "11066611178035959836"
     },
     "user_tz": -120
    },
    "id": "hdO3wSzhMVeq",
    "outputId": "597ae12b-fa0a-4259-c064-7b344eb59b6b"
   },
   "outputs": [
    {
     "data": {
      "image/png": "[encoded data removed]",
      "text/plain": [
       "<Figure size 1008x720 with 1 Axes>"
      ]
     },
     "metadata": {
      "needs_background": "light",
      "tags": []
     },
     "output_type": "display_data"
    }
   ],
   "source": [
    "plt.figure(figsize=(14,10))\n",
    "plt.scatter(reduced_2[reduced_2['cluster'] == 0].loc[:, 'PCA1'], reduced_2[reduced_2['cluster'] == 0].loc[:, 'PCA2'], color='blue')\n",
    "plt.scatter(reduced_2[reduced_2['cluster'] == 1].loc[:, 'PCA1'], reduced_2[reduced_2['cluster'] == 1].loc[:, 'PCA2'], color='yellow')\n",
    "plt.scatter(reduced_2[reduced_2['cluster'] == 2].loc[:, 'PCA1'], reduced_2[reduced_2['cluster'] == 2].loc[:, 'PCA2'], color='green')\n",
    "plt.scatter(reduced_2[reduced_2['cluster'] == 3].loc[:, 'PCA1'], reduced_2[reduced_2['cluster'] == 3].loc[:, 'PCA2'], color='red')\n",
    "plt.scatter(reduced_2[reduced_2['cluster'] == 4].loc[:, 'PCA1'], reduced_2[reduced_2['cluster'] == 4].loc[:, 'PCA2'], color='black')\n",
    "plt.scatter(reduced_2[reduced_2['cluster'] == 5].loc[:, 'PCA1'], reduced_2[reduced_2['cluster'] == 5].loc[:, 'PCA2'], color='orange')\n",
    "plt.scatter(reduced_2[reduced_2['cluster'] == 6].loc[:, 'PCA1'], reduced_2[reduced_2['cluster'] == 6].loc[:, 'PCA2'], color='purple')\n",
    "plt.scatter(reduced_2[reduced_2['cluster'] == 7].loc[:, 'PCA1'], reduced_2[reduced_2['cluster'] == 7].loc[:, 'PCA2'], color='indigo')\n",
    "plt.scatter(reduced_2[reduced_2['cluster'] == 8].loc[:, 'PCA1'], reduced_2[reduced_2['cluster'] == 8].loc[:, 'PCA2'], color='gold')\n",
    "plt.scatter(reduced_2[reduced_2['cluster'] == 9].loc[:, 'PCA1'], reduced_2[reduced_2['cluster'] == 9].loc[:, 'PCA2'], color='grey')\n",
    "\n",
    "plt.show()\n"
   ]
  },
  {
   "cell_type": "code",
   "execution_count": 47,
   "metadata": {
    "colab": {
     "base_uri": "https://localhost:8080/",
     "height": 395
    },
    "executionInfo": {
     "elapsed": 236,
     "status": "ok",
     "timestamp": 1622639484605,
     "user": {
      "displayName": "Ahmed Hany",
      "photoUrl": "",
      "userId": "11066611178035959836"
     },
     "user_tz": -120
    },
    "id": "jGoO7BSjM4Tf",
    "outputId": "746af650-cc65-4af7-94c8-4a24e1dcd024"
   },
   "outputs": [
    {
     "data": {
      "text/html": [
       "<div>\n",
       "<style scoped>\n",
       "    .dataframe tbody tr th:only-of-type {\n",
       "        vertical-align: middle;\n",
       "    }\n",
       "\n",
       "    .dataframe tbody tr th {\n",
       "        vertical-align: top;\n",
       "    }\n",
       "\n",
       "    .dataframe thead th {\n",
       "        text-align: right;\n",
       "    }\n",
       "</style>\n",
       "<table border=\"1\" class=\"dataframe\">\n",
       "  <thead>\n",
       "    <tr style=\"text-align: right;\">\n",
       "      <th></th>\n",
       "      <th>Alcohol</th>\n",
       "      <th>Ash</th>\n",
       "      <th>Ash_Alcanity</th>\n",
       "      <th>Color_Intensity</th>\n",
       "      <th>Flavanoids</th>\n",
       "      <th>Hue</th>\n",
       "      <th>Magnesium</th>\n",
       "      <th>Malic_Acid</th>\n",
       "      <th>Nonflavanoid_Phenols</th>\n",
       "      <th>OD280</th>\n",
       "      <th>Proanthocyanins</th>\n",
       "      <th>Proline</th>\n",
       "      <th>Total_Phenols</th>\n",
       "    </tr>\n",
       "    <tr>\n",
       "      <th>cluster</th>\n",
       "      <th></th>\n",
       "      <th></th>\n",
       "      <th></th>\n",
       "      <th></th>\n",
       "      <th></th>\n",
       "      <th></th>\n",
       "      <th></th>\n",
       "      <th></th>\n",
       "      <th></th>\n",
       "      <th></th>\n",
       "      <th></th>\n",
       "      <th></th>\n",
       "      <th></th>\n",
       "    </tr>\n",
       "  </thead>\n",
       "  <tbody>\n",
       "    <tr>\n",
       "      <th>0</th>\n",
       "      <td>13.832308</td>\n",
       "      <td>2.523077</td>\n",
       "      <td>17.638462</td>\n",
       "      <td>5.903846</td>\n",
       "      <td>2.913846</td>\n",
       "      <td>1.117692</td>\n",
       "      <td>105.538462</td>\n",
       "      <td>1.730000</td>\n",
       "      <td>0.299231</td>\n",
       "      <td>3.005385</td>\n",
       "      <td>1.783846</td>\n",
       "      <td>1281.538462</td>\n",
       "      <td>2.740769</td>\n",
       "    </tr>\n",
       "    <tr>\n",
       "      <th>1</th>\n",
       "      <td>13.751250</td>\n",
       "      <td>2.348750</td>\n",
       "      <td>16.975000</td>\n",
       "      <td>5.168333</td>\n",
       "      <td>2.921667</td>\n",
       "      <td>1.057500</td>\n",
       "      <td>105.041667</td>\n",
       "      <td>1.969167</td>\n",
       "      <td>0.272500</td>\n",
       "      <td>3.189167</td>\n",
       "      <td>1.895417</td>\n",
       "      <td>1057.708333</td>\n",
       "      <td>2.794583</td>\n",
       "    </tr>\n",
       "    <tr>\n",
       "      <th>2</th>\n",
       "      <td>14.126000</td>\n",
       "      <td>2.398000</td>\n",
       "      <td>16.220000</td>\n",
       "      <td>6.940000</td>\n",
       "      <td>3.406000</td>\n",
       "      <td>1.090000</td>\n",
       "      <td>107.600000</td>\n",
       "      <td>1.880000</td>\n",
       "      <td>0.262000</td>\n",
       "      <td>3.070000</td>\n",
       "      <td>2.288000</td>\n",
       "      <td>1500.400000</td>\n",
       "      <td>3.246000</td>\n",
       "    </tr>\n",
       "    <tr>\n",
       "      <th>3</th>\n",
       "      <td>13.030000</td>\n",
       "      <td>2.476429</td>\n",
       "      <td>20.035714</td>\n",
       "      <td>5.493571</td>\n",
       "      <td>1.885000</td>\n",
       "      <td>0.891143</td>\n",
       "      <td>108.214286</td>\n",
       "      <td>2.437857</td>\n",
       "      <td>0.355714</td>\n",
       "      <td>2.637143</td>\n",
       "      <td>1.553571</td>\n",
       "      <td>865.428571</td>\n",
       "      <td>2.257857</td>\n",
       "    </tr>\n",
       "    <tr>\n",
       "      <th>4</th>\n",
       "      <td>12.680000</td>\n",
       "      <td>2.335565</td>\n",
       "      <td>20.466957</td>\n",
       "      <td>4.782261</td>\n",
       "      <td>1.648696</td>\n",
       "      <td>0.911565</td>\n",
       "      <td>95.365217</td>\n",
       "      <td>2.526174</td>\n",
       "      <td>0.396174</td>\n",
       "      <td>2.399130</td>\n",
       "      <td>1.442261</td>\n",
       "      <td>547.860870</td>\n",
       "      <td>2.067913</td>\n",
       "    </tr>\n",
       "    <tr>\n",
       "      <th>5</th>\n",
       "      <td>12.210000</td>\n",
       "      <td>1.750000</td>\n",
       "      <td>16.800000</td>\n",
       "      <td>2.850000</td>\n",
       "      <td>1.280000</td>\n",
       "      <td>1.280000</td>\n",
       "      <td>151.000000</td>\n",
       "      <td>1.190000</td>\n",
       "      <td>0.140000</td>\n",
       "      <td>3.070000</td>\n",
       "      <td>2.500000</td>\n",
       "      <td>718.000000</td>\n",
       "      <td>1.850000</td>\n",
       "    </tr>\n",
       "    <tr>\n",
       "      <th>6</th>\n",
       "      <td>13.456667</td>\n",
       "      <td>2.570000</td>\n",
       "      <td>16.233333</td>\n",
       "      <td>5.843333</td>\n",
       "      <td>3.306667</td>\n",
       "      <td>0.986667</td>\n",
       "      <td>101.666667</td>\n",
       "      <td>1.960000</td>\n",
       "      <td>0.320000</td>\n",
       "      <td>3.216667</td>\n",
       "      <td>2.043333</td>\n",
       "      <td>1190.000000</td>\n",
       "      <td>3.176667</td>\n",
       "    </tr>\n",
       "    <tr>\n",
       "      <th>7</th>\n",
       "      <td>14.190000</td>\n",
       "      <td>2.480000</td>\n",
       "      <td>16.500000</td>\n",
       "      <td>8.700000</td>\n",
       "      <td>3.930000</td>\n",
       "      <td>1.230000</td>\n",
       "      <td>108.000000</td>\n",
       "      <td>1.590000</td>\n",
       "      <td>0.320000</td>\n",
       "      <td>2.820000</td>\n",
       "      <td>1.860000</td>\n",
       "      <td>1680.000000</td>\n",
       "      <td>3.300000</td>\n",
       "    </tr>\n",
       "    <tr>\n",
       "      <th>8</th>\n",
       "      <td>12.470000</td>\n",
       "      <td>2.200000</td>\n",
       "      <td>19.000000</td>\n",
       "      <td>2.600000</td>\n",
       "      <td>2.270000</td>\n",
       "      <td>1.160000</td>\n",
       "      <td>162.000000</td>\n",
       "      <td>1.520000</td>\n",
       "      <td>0.320000</td>\n",
       "      <td>2.630000</td>\n",
       "      <td>3.280000</td>\n",
       "      <td>937.000000</td>\n",
       "      <td>2.500000</td>\n",
       "    </tr>\n",
       "    <tr>\n",
       "      <th>9</th>\n",
       "      <td>13.770000</td>\n",
       "      <td>2.680000</td>\n",
       "      <td>17.100000</td>\n",
       "      <td>6.300000</td>\n",
       "      <td>2.790000</td>\n",
       "      <td>1.130000</td>\n",
       "      <td>115.000000</td>\n",
       "      <td>1.900000</td>\n",
       "      <td>0.390000</td>\n",
       "      <td>2.930000</td>\n",
       "      <td>1.680000</td>\n",
       "      <td>1375.000000</td>\n",
       "      <td>3.000000</td>\n",
       "    </tr>\n",
       "  </tbody>\n",
       "</table>\n",
       "</div>"
      ],
      "text/plain": [
       "           Alcohol       Ash  ...      Proline  Total_Phenols\n",
       "cluster                       ...                            \n",
       "0        13.832308  2.523077  ...  1281.538462       2.740769\n",
       "1        13.751250  2.348750  ...  1057.708333       2.794583\n",
       "2        14.126000  2.398000  ...  1500.400000       3.246000\n",
       "3        13.030000  2.476429  ...   865.428571       2.257857\n",
       "4        12.680000  2.335565  ...   547.860870       2.067913\n",
       "5        12.210000  1.750000  ...   718.000000       1.850000\n",
       "6        13.456667  2.570000  ...  1190.000000       3.176667\n",
       "7        14.190000  2.480000  ...  1680.000000       3.300000\n",
       "8        12.470000  2.200000  ...   937.000000       2.500000\n",
       "9        13.770000  2.680000  ...  1375.000000       3.000000\n",
       "\n",
       "[10 rows x 13 columns]"
      ]
     },
     "execution_count": 47,
     "metadata": {
      "tags": []
     },
     "output_type": "execute_result"
    }
   ],
   "source": [
    "table=pd.pivot_table(df2,index=['cluster'])\n",
    "table"
   ]
  },
  {
   "cell_type": "code",
   "execution_count": null,
   "metadata": {
    "id": "521jbjkW2XRl"
   },
   "outputs": [],
   "source": []
  }
 ],
 "metadata": {
  "colab": {
   "authorship_tag": "ABX9TyNnQH4TyjRvjp9nV/jdiVoj",
   "collapsed_sections": [],
   "name": "Data_Mininig.ipynb",
   "provenance": []
  },
  "kernelspec": {
   "display_name": "Python 3",
   "language": "python",
   "name": "python3"
  },
  "language_info": {
   "codemirror_mode": {
    "name": "ipython",
    "version": 3
   },
   "file_extension": ".py",
   "mimetype": "text/x-python",
   "name": "python",
   "nbconvert_exporter": "python",
   "pygments_lexer": "ipython3",
   "version": "3.8.3"
  }
 },
 "nbformat": 4,
 "nbformat_minor": 1
}
